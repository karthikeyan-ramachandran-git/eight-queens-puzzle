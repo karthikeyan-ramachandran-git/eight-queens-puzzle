{
  "nbformat": 4,
  "nbformat_minor": 0,
  "metadata": {
    "colab": {
      "name": "Eight queens puzzle - explaination.ipynb",
      "provenance": [],
      "collapsed_sections": []
    },
    "kernelspec": {
      "name": "python3",
      "display_name": "Python 3"
    }
  },
  "cells": [
    {
      "cell_type": "markdown",
      "metadata": {
        "id": "MOWIokVal5th",
        "colab_type": "text"
      },
      "source": [
        "# Eight queens puzzle - step by step explaination\n",
        "\n",
        "## Eight queens puzzle\n",
        "The eight queens puzzle is the problem of placing eight chess queens on an 8×8 chessboard so that no two queens threaten each other; thus, a solution requires that no two queens share the same row, column, or diagonal.\n",
        "\n",
        "## Objective\n",
        "Our objective is to generate the right sequence of Queen's positions using Genetic algorithm.  \n",
        "One of the right sequence is **5 2 4 7 0 3 1 6**\n",
        "* Each value represent the Queen's position on every column from 0-7 on the chess board.\n",
        "* Each individual value ranges from 0-7, for every row on the chess board.\n",
        "\n",
        "## Steps involved\n",
        "1. Initial population is generated with chromosomes containing random genes.\n",
        "2. Fitness score of the population is calculated.\n",
        "3. Based on fitness score, parents are selected for mating.\n",
        "4. Crossover and Mutation are performed on the selected parents, to produce offsprings.\n",
        "5. Offsprings are added to the population and Fitness score is calculated.\n",
        "6. Process is stopped if max-fitness score is found, else repeated from Step 3 to 5"
      ]
    },
    {
      "cell_type": "markdown",
      "metadata": {
        "id": "YK8m_kYPmVez",
        "colab_type": "text"
      },
      "source": [
        "## Setup functions\n",
        "\n",
        "We are running \"Eight queens puzzle.ipynb\" file, to import the functions.\n",
        "\n",
        "*Note: This step would execute all code on the mentioned file*"
      ]
    },
    {
      "cell_type": "code",
      "metadata": {
        "id": "DKRqeiz2N7ZO",
        "colab_type": "code",
        "colab": {}
      },
      "source": [
        "# import libraries\n",
        "import numpy as np\n",
        "import pandas as pd"
      ],
      "execution_count": 40,
      "outputs": []
    },
    {
      "cell_type": "code",
      "metadata": {
        "id": "ySDFRQ3ZwXhO",
        "colab_type": "code",
        "colab": {}
      },
      "source": [
        "# to hide outputs\n",
        "%%capture \n",
        "# to run \"Eight queens puzzle.ipynb\" file\n",
        "%run \"./Eight queens puzzle.ipynb\""
      ],
      "execution_count": 41,
      "outputs": []
    },
    {
      "cell_type": "markdown",
      "metadata": {
        "id": "IqZitiXhnjQ4",
        "colab_type": "text"
      },
      "source": [
        "## Generate initial-population\n",
        "\n",
        "Generating an initial-population of 100 chromosome(aka individuals) with random genes."
      ]
    },
    {
      "cell_type": "code",
      "metadata": {
        "id": "lMAoFDQykx3B",
        "colab_type": "code",
        "colab": {
          "base_uri": "https://localhost:8080/",
          "height": 102
        },
        "outputId": "a0469832-f309-4f07-cc19-7bcfa7e28516"
      },
      "source": [
        "# Generate initial-population\n",
        "init_pop = generate_init_pop(initial_population_size)\n",
        "\n",
        "# display top 5 initial-population\n",
        "init_pop[:5]"
      ],
      "execution_count": 50,
      "outputs": [
        {
          "output_type": "execute_result",
          "data": {
            "text/plain": [
              "[array([1, 5, 2, 0, 2, 6, 2, 7]),\n",
              " array([3, 1, 1, 6, 0, 6, 5, 3]),\n",
              " array([2, 6, 2, 7, 3, 3, 0, 1]),\n",
              " array([3, 4, 5, 1, 0, 0, 0, 0]),\n",
              " array([3, 1, 6, 2, 2, 4, 3, 7])]"
            ]
          },
          "metadata": {
            "tags": []
          },
          "execution_count": 50
        }
      ]
    },
    {
      "cell_type": "markdown",
      "metadata": {
        "id": "ogRsqkZvqWXS",
        "colab_type": "text"
      },
      "source": [
        "Inspecting the first chromosome below, we can see it's an array of sequence randomly generated, having values from 0-7 indicating the position of the Queens across the board.  \n",
        "\n",
        "*Note: Each individual array elements are called Genes*"
      ]
    },
    {
      "cell_type": "code",
      "metadata": {
        "id": "X4cMGwqXn7_4",
        "colab_type": "code",
        "colab": {
          "base_uri": "https://localhost:8080/",
          "height": 34
        },
        "outputId": "c50f673a-d8fd-46b7-e719-2c7586563634"
      },
      "source": [
        "# First chromosome\n",
        "init_pop[0]"
      ],
      "execution_count": 51,
      "outputs": [
        {
          "output_type": "execute_result",
          "data": {
            "text/plain": [
              "array([1, 5, 2, 0, 2, 6, 2, 7])"
            ]
          },
          "metadata": {
            "tags": []
          },
          "execution_count": 51
        }
      ]
    },
    {
      "cell_type": "markdown",
      "metadata": {
        "id": "xmx3GyvZrP40",
        "colab_type": "text"
      },
      "source": [
        "## Calculating fitness score\n",
        "Fitness score is calculated for every chromosome in the population, to indentify how close are the sequence to the right sequence.  \n",
        "The fitness score function defined would do the following:\n",
        "* Starting from the queen at 0th column, checks how many queens are in attacking position to the queen in 0th position\n",
        "* For every successful non-attacking position 1 point is added\n",
        "    * So if none of the queens are attacking the 0th queen, thes the score is 7\n",
        "    * If all the queens are in attacking position to 0th queen, then the score is 0\n",
        "* This step is repeated for the rest of the columns\n",
        "\n",
        "**The right sequence would score 56**"
      ]
    },
    {
      "cell_type": "markdown",
      "metadata": {
        "id": "0kvTrSC2s9lq",
        "colab_type": "text"
      },
      "source": [
        "We'll try calculating the fitness score of the first chromosome"
      ]
    },
    {
      "cell_type": "code",
      "metadata": {
        "id": "69cD1cRRrNOe",
        "colab_type": "code",
        "colab": {
          "base_uri": "https://localhost:8080/",
          "height": 34
        },
        "outputId": "830d2a63-b3f1-471b-ba69-3da76bd780b3"
      },
      "source": [
        "chromosome1_fitness = fitness_score(init_pop[0])\n",
        "print(f\"First chromosome's fitness score is {chromosome1_fitness}\")"
      ],
      "execution_count": 52,
      "outputs": [
        {
          "output_type": "stream",
          "text": [
            "First chromosome's fitness score is 44\n"
          ],
          "name": "stdout"
        }
      ]
    },
    {
      "cell_type": "markdown",
      "metadata": {
        "id": "Yvos8nwhtKX0",
        "colab_type": "text"
      },
      "source": [
        "## Probability of fitness score\n",
        "We'd then calculate the probabiltiy of the fitness score, to choose parents with high probability to produce offsprings.\n",
        "\n",
        "**The best fitness score 56, would have a probability of 1.0**"
      ]
    },
    {
      "cell_type": "code",
      "metadata": {
        "id": "MRxlRBZotH40",
        "colab_type": "code",
        "colab": {
          "base_uri": "https://localhost:8080/",
          "height": 34
        },
        "outputId": "9e2c9714-bdb4-4e1f-956e-4894d22cfa50"
      },
      "source": [
        "chromosome1_probability = get_probability([chromosome1_fitness], target_value = 56)\n",
        "print(f\"First chromosome's probability is {chromosome1_probability[0]}\")"
      ],
      "execution_count": 53,
      "outputs": [
        {
          "output_type": "stream",
          "text": [
            "First chromosome's probability is 0.78571\n"
          ],
          "name": "stdout"
        }
      ]
    },
    {
      "cell_type": "markdown",
      "metadata": {
        "id": "rWNDydtyvNFG",
        "colab_type": "text"
      },
      "source": [
        "In similar fashion we'll calculate the fitness score and probability of the initial population, to choose the parents."
      ]
    },
    {
      "cell_type": "code",
      "metadata": {
        "id": "UEi2e93euOn5",
        "colab_type": "code",
        "colab": {
          "base_uri": "https://localhost:8080/",
          "height": 204
        },
        "outputId": "0a5321df-a195-48b0-92fa-c687df24b939"
      },
      "source": [
        "init_pop_score = get_dataframe(init_pop)\n",
        "# Top five chromosomes with high probability\n",
        "init_pop_score.head(5)"
      ],
      "execution_count": 54,
      "outputs": [
        {
          "output_type": "execute_result",
          "data": {
            "text/html": [
              "<div>\n",
              "<style scoped>\n",
              "    .dataframe tbody tr th:only-of-type {\n",
              "        vertical-align: middle;\n",
              "    }\n",
              "\n",
              "    .dataframe tbody tr th {\n",
              "        vertical-align: top;\n",
              "    }\n",
              "\n",
              "    .dataframe thead th {\n",
              "        text-align: right;\n",
              "    }\n",
              "</style>\n",
              "<table border=\"1\" class=\"dataframe\">\n",
              "  <thead>\n",
              "    <tr style=\"text-align: right;\">\n",
              "      <th></th>\n",
              "      <th>combination</th>\n",
              "      <th>fitness</th>\n",
              "      <th>probability</th>\n",
              "    </tr>\n",
              "  </thead>\n",
              "  <tbody>\n",
              "    <tr>\n",
              "      <th>0</th>\n",
              "      <td>[6, 4, 0, 5, 6, 2, 3, 7]</td>\n",
              "      <td>50</td>\n",
              "      <td>0.89286</td>\n",
              "    </tr>\n",
              "    <tr>\n",
              "      <th>1</th>\n",
              "      <td>[4, 2, 7, 6, 2, 5, 2, 0]</td>\n",
              "      <td>48</td>\n",
              "      <td>0.85714</td>\n",
              "    </tr>\n",
              "    <tr>\n",
              "      <th>2</th>\n",
              "      <td>[3, 6, 0, 1, 5, 7, 3, 6]</td>\n",
              "      <td>48</td>\n",
              "      <td>0.85714</td>\n",
              "    </tr>\n",
              "    <tr>\n",
              "      <th>3</th>\n",
              "      <td>[4, 6, 6, 2, 0, 7, 3, 5]</td>\n",
              "      <td>48</td>\n",
              "      <td>0.85714</td>\n",
              "    </tr>\n",
              "    <tr>\n",
              "      <th>4</th>\n",
              "      <td>[3, 1, 6, 2, 2, 4, 3, 7]</td>\n",
              "      <td>46</td>\n",
              "      <td>0.82143</td>\n",
              "    </tr>\n",
              "  </tbody>\n",
              "</table>\n",
              "</div>"
            ],
            "text/plain": [
              "                combination  fitness  probability\n",
              "0  [6, 4, 0, 5, 6, 2, 3, 7]       50      0.89286\n",
              "1  [4, 2, 7, 6, 2, 5, 2, 0]       48      0.85714\n",
              "2  [3, 6, 0, 1, 5, 7, 3, 6]       48      0.85714\n",
              "3  [4, 6, 6, 2, 0, 7, 3, 5]       48      0.85714\n",
              "4  [3, 1, 6, 2, 2, 4, 3, 7]       46      0.82143"
            ]
          },
          "metadata": {
            "tags": []
          },
          "execution_count": 54
        }
      ]
    },
    {
      "cell_type": "markdown",
      "metadata": {
        "id": "rKDD7edXvyTe",
        "colab_type": "text"
      },
      "source": [
        "## Selecting children\n",
        "Parents are chosen on the order of high probability and they undergo [crossover](https://www.tutorialspoint.com/genetic_algorithms/genetic_algorithms_crossover.htm) and [mutation](https://www.tutorialspoint.com/genetic_algorithms/genetic_algorithms_mutation.htm) to produce offsprings."
      ]
    },
    {
      "cell_type": "markdown",
      "metadata": {
        "id": "6D4XTLiNwOUQ",
        "colab_type": "text"
      },
      "source": [
        "### Crossover\n",
        "We perform One Point crossover between two parents to produce two offsprings, who will get traits from both parents.\n",
        "\n",
        "Example:\n",
        "\n",
        "Parent 1: 0 0 0 0 0 0 0 0  \n",
        "Parent 2: 8 8 8 8 8 8 8 8  \n",
        "\n",
        "We select a crossover point in the middle and the tails of the two parents are swapped to get new offsprings.\n",
        "\n",
        "Child 1: 0 0 0 0 8 8 8 8  \n",
        "Child 2: 8 8 8 8 0 0 0 0 "
      ]
    },
    {
      "cell_type": "code",
      "metadata": {
        "id": "xvEJJAzWvuCn",
        "colab_type": "code",
        "colab": {
          "base_uri": "https://localhost:8080/",
          "height": 85
        },
        "outputId": "02fa39ef-ec6d-4c91-e8ff-3df3633c16c9"
      },
      "source": [
        "# Parents\n",
        "parent1 = np.full(8, 0)\n",
        "parent2 = np.full(8, 8)\n",
        "\n",
        "# Children\n",
        "child1, child2 = crossover(parent1, parent2, crossOver=0.5)\n",
        "\n",
        "print(f\"Parent 1 : {parent1} \\nParent 2 : {parent2}\")\n",
        "print(f\"Child 1 : {child1} \\nChild 2 : {child2}\")"
      ],
      "execution_count": 55,
      "outputs": [
        {
          "output_type": "stream",
          "text": [
            "Parent 1 : [0 0 0 0 0 0 0 0] \n",
            "Parent 2 : [8 8 8 8 8 8 8 8]\n",
            "Child 1 : [0 0 0 0 8 8 8 8] \n",
            "Child 2 : [8 8 8 8 0 0 0 0]\n"
          ],
          "name": "stdout"
        }
      ]
    },
    {
      "cell_type": "markdown",
      "metadata": {
        "id": "ohEptbG2MLYp",
        "colab_type": "text"
      },
      "source": [
        "### Mutation\n",
        "We apply Random Resetting mutation on the obtained offsprings.\n",
        "\n",
        "In this method we simply choose a gene randomly and replace it with a random value from the set of permissible values (0 - 7)\n"
      ]
    },
    {
      "cell_type": "code",
      "metadata": {
        "id": "RWEZm5c0MnqQ",
        "colab_type": "code",
        "colab": {
          "base_uri": "https://localhost:8080/",
          "height": 51
        },
        "outputId": "46084761-f879-40dd-aa4d-e1b451c83901"
      },
      "source": [
        "# Applying mutation on the obtained offsprings\n",
        "child1 = mutation(child1); child2 = mutation(child2)\n",
        "\n",
        "print(f\"Child 1 : {child1} \\nChild 2 : {child2}\")"
      ],
      "execution_count": 48,
      "outputs": [
        {
          "output_type": "stream",
          "text": [
            "Child 1 : [0 0 0 0 8 8 8 8] \n",
            "Child 2 : [1 8 8 8 0 0 0 0]\n"
          ],
          "name": "stdout"
        }
      ]
    },
    {
      "cell_type": "markdown",
      "metadata": {
        "id": "5e2HZhveNO2N",
        "colab_type": "text"
      },
      "source": [
        "We then proceed to score the fitness of the obtained offsprings and the we add them to the initial population.\n",
        "\n",
        "Then we try to find, if we have got the right sequence (based on the fitness score). If not then we repeat the whole process again to generate new offsprings until we have the expected fitness."
      ]
    },
    {
      "cell_type": "code",
      "metadata": {
        "id": "04q326InNr61",
        "colab_type": "code",
        "colab": {
          "base_uri": "https://localhost:8080/",
          "height": 731
        },
        "outputId": "d1434c76-2778-4a27-ce08-5a3a54c12386"
      },
      "source": [
        "# store right sequence\n",
        "right_sequence = generate_sequence(init_pop, num_of_children, num_of_generation, target_value)"
      ],
      "execution_count": 56,
      "outputs": [
        {
          "output_type": "stream",
          "text": [
            "expected fitness: 56 \n",
            "----------------------------------n\n",
            "Gen: 0 , best-combination: [6 4 0 5 6 2 3 7] , fitness: 50 , avg-fitness: 42.5 , probability: 0.89286\n",
            "Gen: 1 , best-combination: [5 0 4 1 6 2 3 7] , fitness: 52 , avg-fitness: 42.707 , probability: 0.92857\n",
            "Gen: 2 , best-combination: [5 0 4 1 6 2 3 7] , fitness: 52 , avg-fitness: 42.94 , probability: 0.92857\n",
            "Gen: 3 , best-combination: [5 0 4 1 6 2 3 7] , fitness: 52 , avg-fitness: 43.016 , probability: 0.92857\n",
            "Gen: 4 , best-combination: [5 0 4 1 6 2 3 7] , fitness: 52 , avg-fitness: 43.273 , probability: 0.92857\n",
            "Gen: 5 , best-combination: [1 5 2 0 6 3 1 4] , fitness: 52 , avg-fitness: 43.497 , probability: 0.92857\n",
            "Gen: 6 , best-combination: [1 5 2 0 6 3 1 4] , fitness: 52 , avg-fitness: 43.56 , probability: 0.92857\n",
            "Gen: 7 , best-combination: [5 3 6 0 2 4 7 3] , fitness: 54 , avg-fitness: 43.578 , probability: 0.96429\n",
            "Gen: 8 , best-combination: [5 3 6 0 2 4 7 3] , fitness: 54 , avg-fitness: 43.8 , probability: 0.96429\n",
            "Gen: 9 , best-combination: [3 6 0 7 4 7 5 2] , fitness: 54 , avg-fitness: 43.931 , probability: 0.96429\n",
            "Gen: 10 , best-combination: [3 6 0 7 4 7 5 2] , fitness: 54 , avg-fitness: 44.027 , probability: 0.96429\n",
            "Gen: 11 , best-combination: [3 6 0 7 4 7 5 2] , fitness: 54 , avg-fitness: 44.182 , probability: 0.96429\n",
            "Gen: 12 , best-combination: [5 3 6 0 2 4 7 3] , fitness: 54 , avg-fitness: 44.28 , probability: 0.96429\n",
            "Gen: 13 , best-combination: [5 3 6 0 2 4 7 3] , fitness: 54 , avg-fitness: 44.427 , probability: 0.96429\n",
            "Gen: 14 , best-combination: [5 3 6 0 2 4 7 3] , fitness: 54 , avg-fitness: 44.548 , probability: 0.96429\n",
            "Gen: 15 , best-combination: [5 3 6 0 2 4 7 3] , fitness: 54 , avg-fitness: 44.607 , probability: 0.96429\n",
            "Gen: 16 , best-combination: [5 3 6 0 2 4 7 3] , fitness: 54 , avg-fitness: 44.687 , probability: 0.96429\n",
            "Gen: 17 , best-combination: [3 6 0 7 4 7 5 2] , fitness: 54 , avg-fitness: 44.806 , probability: 0.96429\n",
            "Gen: 18 , best-combination: [5 3 6 0 2 4 7 3] , fitness: 54 , avg-fitness: 44.912 , probability: 0.96429\n",
            "Gen: 19 , best-combination: [5 3 6 0 2 4 7 3] , fitness: 54 , avg-fitness: 44.979 , probability: 0.96429\n",
            "Gen: 20 , best-combination: [5 3 6 0 2 4 7 3] , fitness: 54 , avg-fitness: 45.076 , probability: 0.96429\n",
            "Gen: 21 , best-combination: [5 3 6 0 2 4 7 3] , fitness: 54 , avg-fitness: 45.162 , probability: 0.96429\n",
            "Gen: 22 , best-combination: [3 6 0 7 4 7 5 2] , fitness: 54 , avg-fitness: 45.26 , probability: 0.96429\n",
            "Gen: 23 , best-combination: [5 3 6 0 2 4 7 3] , fitness: 54 , avg-fitness: 45.352 , probability: 0.96429\n",
            "Gen: 24 , best-combination: [3 6 0 7 4 7 5 2] , fitness: 54 , avg-fitness: 45.408 , probability: 0.96429\n",
            "Gen: 25 , best-combination: [3 6 0 7 4 7 5 2] , fitness: 54 , avg-fitness: 45.458 , probability: 0.96429\n",
            "Gen: 26 , best-combination: [1 5 6 0 3 7 4 2] , fitness: 54 , avg-fitness: 45.48 , probability: 0.96429\n",
            "Gen: 27 , best-combination: [1 5 2 0 3 7 4 2] , fitness: 54 , avg-fitness: 45.538 , probability: 0.96429\n",
            "Gen: 28 , best-combination: [1 5 6 0 3 7 4 2] , fitness: 54 , avg-fitness: 45.624 , probability: 0.96429\n",
            "Gen: 29 , best-combination: [1 5 6 0 3 7 4 2] , fitness: 54 , avg-fitness: 45.702 , probability: 0.96429\n",
            "Gen: 30 , best-combination: [1 5 2 0 3 7 4 2] , fitness: 54 , avg-fitness: 45.738 , probability: 0.96429\n",
            "Gen: 31 , best-combination: [1 5 2 0 3 7 4 2] , fitness: 54 , avg-fitness: 45.802 , probability: 0.96429\n",
            "Gen: 32 , best-combination: [1 5 2 0 3 7 4 2] , fitness: 54 , avg-fitness: 45.878 , probability: 0.96429\n",
            "Gen: 33 , best-combination: [1 5 6 0 3 7 4 2] , fitness: 54 , avg-fitness: 45.953 , probability: 0.96429\n",
            "Gen: 34 , best-combination: [1 5 2 0 3 7 4 2] , fitness: 54 , avg-fitness: 46.02 , probability: 0.96429\n",
            "Gen: 35 , best-combination: [1 5 2 0 7 4 6 3] , fitness: 54 , avg-fitness: 46.066 , probability: 0.96429\n",
            "Gen: 36 , best-combination: [1 5 2 0 3 7 4 2] , fitness: 54 , avg-fitness: 46.098 , probability: 0.96429\n",
            "Gen: 37 , best-combination: [3 6 0 7 4 7 5 2] , fitness: 54 , avg-fitness: 46.169 , probability: 0.96429\n",
            "Gen: 38 , best-combination: [5 1 6 0 3 7 4 2] , fitness: 56 , avg-fitness: 46.211 , probability: 1.0\n",
            "Gen: 38 , best-combination: [5 1 6 0 3 7 4 2] , fitness: 56 , probability: 1.0\n"
          ],
          "name": "stdout"
        }
      ]
    },
    {
      "cell_type": "code",
      "metadata": {
        "id": "GCAg2EFiNziB",
        "colab_type": "code",
        "colab": {
          "base_uri": "https://localhost:8080/",
          "height": 34
        },
        "outputId": "651a979b-e754-447e-c924-6a5df6f3290b"
      },
      "source": [
        "# Display the right sequence\n",
        "right_sequence_str = \" \".join([str(i) for i in right_sequence.tolist()])\n",
        "print(\"Sequence :\", right_sequence_str)"
      ],
      "execution_count": 57,
      "outputs": [
        {
          "output_type": "stream",
          "text": [
            "Sequence : 5 1 6 0 3 7 4 2\n"
          ],
          "name": "stdout"
        }
      ]
    }
  ]
}