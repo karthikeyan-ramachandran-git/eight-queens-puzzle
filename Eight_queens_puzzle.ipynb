{
  "nbformat": 4,
  "nbformat_minor": 0,
  "metadata": {
    "colab": {
      "name": "Eight queens puzzle.ipynb",
      "provenance": [],
      "collapsed_sections": []
    },
    "kernelspec": {
      "display_name": "Python 3",
      "language": "python",
      "name": "python3"
    },
    "language_info": {
      "codemirror_mode": {
        "name": "ipython",
        "version": 3
      },
      "file_extension": ".py",
      "mimetype": "text/x-python",
      "name": "python",
      "nbconvert_exporter": "python",
      "pygments_lexer": "ipython3",
      "version": "3.7.6"
    }
  },
  "cells": [
    {
      "cell_type": "markdown",
      "metadata": {
        "colab_type": "text",
        "id": "6pbRx3S-DiUF"
      },
      "source": [
        "# Eight queens puzzle - using Genetic algorithm\n",
        "**Karthikeyan Ramachandran**\n",
        "\n",
        "## About\n",
        "The eight queens puzzle is the problem of placing eight chess queens on an 8×8 chessboard so that no two queens threaten each other; thus, a solution requires that no two queens share the same row, column, or diagonal. \n",
        "\n",
        "## Steps involved\n",
        "1. Initial population is generated with chromosomes containing random genes.\n",
        "2. Fitness score of the population is calculated.\n",
        "3. Based on fitness score, parents are selected for mating.\n",
        "4. Crossover and Mutation are performed on the selected parents, to produce offsprings.\n",
        "5. Offsprings are added to the population and Fitness score is calculated.\n",
        "6. Process is stopped if max-fitness score is found, else repeated from Step 3 to 5"
      ]
    },
    {
      "cell_type": "markdown",
      "metadata": {
        "colab_type": "text",
        "id": "gtVk41fJVeOi"
      },
      "source": [
        "## Import libraries"
      ]
    },
    {
      "cell_type": "code",
      "metadata": {
        "colab_type": "code",
        "id": "ks7CA5bgDiUI",
        "colab": {}
      },
      "source": [
        "import numpy as np\n",
        "import pandas as pd\n",
        "import unittest\n",
        "\n",
        "# Setting seed value for reproducibility\n",
        "np.random.seed(50)"
      ],
      "execution_count": 142,
      "outputs": []
    },
    {
      "cell_type": "markdown",
      "metadata": {
        "colab_type": "text",
        "id": "JW57HsGBVeOu"
      },
      "source": [
        "## Define parameters"
      ]
    },
    {
      "cell_type": "code",
      "metadata": {
        "colab_type": "code",
        "id": "psryjK-9DiUS",
        "colab": {}
      },
      "source": [
        "# Define sizes of initial-population, children and generations \n",
        "initial_population_size = 100\n",
        "num_of_children = 50 # should be even number\n",
        "num_of_generation = 500\n",
        "\n",
        "# position to perform Crossover operation on the combination\n",
        "crossOver=0.5\n",
        "\n",
        "# Define fitness parameters\n",
        "num_of_queens = 8\n",
        "num_of_checks = 7\n",
        "target_value = num_of_queens * num_of_checks"
      ],
      "execution_count": 143,
      "outputs": []
    },
    {
      "cell_type": "markdown",
      "metadata": {
        "colab_type": "text",
        "id": "WluXQIImVeO3"
      },
      "source": [
        "## Define functions"
      ]
    },
    {
      "cell_type": "code",
      "metadata": {
        "colab_type": "code",
        "id": "Rgg2L9T2VeO4",
        "colab": {}
      },
      "source": [
        "# Generate initial-population\n",
        "def generate_init_pop(pop_size):\n",
        "    initial_population = []\n",
        "    for i in range(pop_size):\n",
        "        initial_population.append(np.random.randint(0,8,8))\n",
        "    return initial_population"
      ],
      "execution_count": 144,
      "outputs": []
    },
    {
      "cell_type": "code",
      "metadata": {
        "colab_type": "code",
        "id": "9AGP9apiDiUm",
        "colab": {}
      },
      "source": [
        "# Fitness score-dependent functions\n",
        "\n",
        "## Get attack positions\n",
        "def get_atk_position(pos, dist):\n",
        "    atk_position = np.array([pos-dist, pos, pos+dist], dtype=\"int32\")\n",
        "    return atk_position\n",
        "\n",
        "## Get relative position of the queen (to calculate distance)\n",
        "def get_rel_pos(position_array, idx_val):\n",
        "    rel_pos = np.empty(8)\n",
        "    for i in range(len(position_array)):\n",
        "        if idx_val < i:\n",
        "            rel_pos[i] = (i - idx_val)\n",
        "        else:\n",
        "            rel_pos[i] = (idx_val - i)\n",
        "            \n",
        "    return rel_pos"
      ],
      "execution_count": 145,
      "outputs": []
    },
    {
      "cell_type": "code",
      "metadata": {
        "colab_type": "code",
        "id": "frbARq8iVePH",
        "colab": {}
      },
      "source": [
        "# Fitness score \n",
        "\n",
        "## Max fitness score is 8 queens * 7 attacks from other queens = 56\n",
        "def fitness_score(position_array):\n",
        "    score = 0\n",
        "    for i in range(len(position_array)):\n",
        "        rel_pos = get_rel_pos(position_array, i)\n",
        "        for j in range(len(position_array)):\n",
        "            if i == j:\n",
        "                continue\n",
        "            atk_position = get_atk_position(position_array[i], rel_pos[j])\n",
        "            if position_array[j] in atk_position:\n",
        "                is_attack = True\n",
        "            else:\n",
        "                is_attack = False\n",
        "                score += 1\n",
        "            # print(position_array[j], atk_position, is_attack, score)\n",
        "    return score"
      ],
      "execution_count": 146,
      "outputs": []
    },
    {
      "cell_type": "code",
      "metadata": {
        "colab_type": "code",
        "id": "8zuhOgLeDiUu",
        "colab": {}
      },
      "source": [
        "# generate probabilty based on fitness score\n",
        "def get_probability(fitness_value, target_value = 56):\n",
        "    probability = np.empty(len(fitness_value))\n",
        "    for i in range(len(fitness_value)):\n",
        "        probability[i] = (np.round(fitness_value[i]/target_value, 5))\n",
        "    return probability"
      ],
      "execution_count": 147,
      "outputs": []
    },
    {
      "cell_type": "code",
      "metadata": {
        "colab_type": "code",
        "id": "S9RsmAU8DiU1",
        "colab": {}
      },
      "source": [
        "# sort dataframe based on probability\n",
        "def prob_sort(population_dataframe):\n",
        "    population_dataframe = (population_dataframe.sort_values([\"probability\"], ascending=False).reset_index(drop=True))\n",
        "    return population_dataframe"
      ],
      "execution_count": 148,
      "outputs": []
    },
    {
      "cell_type": "code",
      "metadata": {
        "colab_type": "code",
        "id": "swqodWuYDiU9",
        "colab": {}
      },
      "source": [
        "# store generated info into a dataframe\n",
        "def get_dataframe(combination_array):\n",
        "    population = []\n",
        "    fitness = []\n",
        "\n",
        "    for i in range(len(combination_array)):\n",
        "        combination = combination_array[i]\n",
        "        population.append(combination)\n",
        "        fitness.append(fitness_score(combination))\n",
        "\n",
        "    pop_df = pd.DataFrame({\"combination\":population, \"fitness\":fitness})\n",
        "    pop_df[\"probability\"] = get_probability(pop_df[\"fitness\"])\n",
        "    pop_df = prob_sort(pop_df)\n",
        "\n",
        "    return pop_df"
      ],
      "execution_count": 149,
      "outputs": []
    },
    {
      "cell_type": "code",
      "metadata": {
        "colab_type": "code",
        "id": "_6rz6HkFDiVH",
        "colab": {}
      },
      "source": [
        "# function to perform One Point Crossover\n",
        "def crossover(parent1, parent2, crossOver=0.5):\n",
        "    # get Crossover length to slice\n",
        "    crossOver_len = round(int(len(parent1) * crossOver))\n",
        "    \n",
        "    # Slice and perform crossover\n",
        "    child1 = np.concatenate((parent1[:crossOver_len], parent2[crossOver_len:]), axis=0)\n",
        "    child2 = np.concatenate((parent2[:crossOver_len], parent1[crossOver_len:]), axis=0)\n",
        "    \n",
        "    return child1, child2"
      ],
      "execution_count": 150,
      "outputs": []
    },
    {
      "cell_type": "code",
      "metadata": {
        "colab_type": "code",
        "id": "MgPZd5ruDiVO",
        "colab": {}
      },
      "source": [
        "# function to perform Random Resetting mutation\n",
        "def mutation(combination):\n",
        "    random_queen = np.random.randint(8)\n",
        "    random_position = int(np.random.randint(0,8,1))\n",
        "    combination[random_queen] = random_position\n",
        "    return combination"
      ],
      "execution_count": 151,
      "outputs": []
    },
    {
      "cell_type": "code",
      "metadata": {
        "colab_type": "code",
        "id": "TckQofHJDiVV",
        "colab": {}
      },
      "source": [
        "# generate offspring combination based on performing Crossover and Mutation on selected parents\n",
        "def get_children(parent_array):\n",
        "\n",
        "    children = []\n",
        "    mutated_children = []\n",
        "\n",
        "    for i in range(0,num_of_children,2):\n",
        "        p1 = parent_array[i]\n",
        "        p2 = parent_array[i+1]\n",
        "    \n",
        "        (c1, c2) = crossover(p1, p2)\n",
        "    \n",
        "        children.append(c1)\n",
        "        children.append(c2)\n",
        "    \n",
        "    for i in range(num_of_children):\n",
        "        mutated_children.append(mutation(children[i]))\n",
        "    \n",
        "    return mutated_children"
      ],
      "execution_count": 152,
      "outputs": []
    },
    {
      "cell_type": "code",
      "metadata": {
        "colab_type": "code",
        "id": "UoRXjReOHlFd",
        "colab": {}
      },
      "source": [
        "# Function to generate the right sequence\n",
        "def generate_sequence(initial_population, children, generations, expected_fitness):\n",
        "    # get initial population fitness\n",
        "\n",
        "    init_pop_fitness = get_dataframe(initial_population)\n",
        "    mating_pool = init_pop_fitness[:children]\n",
        "\n",
        "    print(\"expected fitness:\", expected_fitness, \"\\n----------------------------------n\")\n",
        "\n",
        "    for i in range(generations):\n",
        "        # get expected fitness count\n",
        "        expected_fitness_count = mating_pool[(mating_pool[\"fitness\"]==expected_fitness)][\"fitness\"].count()\n",
        "        if expected_fitness_count > 0:\n",
        "            print(\"Gen:\", (i-1), \n",
        "                \", best-combination:\", mating_pool[\"combination\"][0], \n",
        "                \", fitness:\", mating_pool[\"fitness\"][0],\n",
        "                 \", probability:\", mating_pool[\"probability\"][0]\n",
        "             )\n",
        "            break\n",
        "        gen_pop = []\n",
        "        gen_pop = get_children(mating_pool[\"combination\"])\n",
        "        gen_pop = np.concatenate((gen_pop, list(mating_pool[\"combination\"])), axis=0)\n",
        "        mating_pool = get_dataframe(gen_pop)\n",
        "    \n",
        "        print(\"Gen:\", i, \n",
        "            \", best-combination:\", mating_pool[\"combination\"][0], \n",
        "            # mating_pool[\"combination\"][0], mating_pool[\"combination\"][1], mating_pool[\"combination\"][2],\n",
        "            \", fitness:\", mating_pool[\"fitness\"][0],\n",
        "            \", avg-fitness:\", np.round(np.mean(mating_pool[\"fitness\"]), 3),\n",
        "            \", probability:\", mating_pool[\"probability\"][0]\n",
        "            )\n",
        "    return mating_pool[mating_pool[\"probability\"]==1][\"combination\"][0]"
      ],
      "execution_count": 153,
      "outputs": []
    },
    {
      "cell_type": "markdown",
      "metadata": {
        "id": "Az9MmVJv7CRK",
        "colab_type": "text"
      },
      "source": [
        "## Unit testing"
      ]
    },
    {
      "cell_type": "markdown",
      "metadata": {
        "id": "bUC5tTf9Nzbi",
        "colab_type": "text"
      },
      "source": [
        "### Define Unit test cases"
      ]
    },
    {
      "cell_type": "code",
      "metadata": {
        "id": "QkwMxoYF7F23",
        "colab_type": "code",
        "colab": {}
      },
      "source": [
        "class TestQueens(unittest.TestCase):\n",
        "    '''\n",
        "    Unit test cases to validate functions used in the solution\n",
        "    '''\n",
        "\n",
        "    # Test the function to generate initial population\n",
        "    def test_generate_init_pop(self):\n",
        "        test_init_pop = generate_init_pop(3)\n",
        "        self.assertEqual(len(test_init_pop), 3) # validate length\n",
        "\n",
        "    # Test the Queen's attack positions\n",
        "    def test_get_atk_position(self):\n",
        "        test_atk_pos = get_atk_position(5, 2)\n",
        "        valid_atk_pos = np.array([3, 5, 7], dtype=\"int32\")\n",
        "        self.assertSequenceEqual(test_atk_pos.tolist(), valid_atk_pos.tolist())\n",
        "\n",
        "    # Test the relative position array\n",
        "    def test_get_rel_pos(self):\n",
        "        test_rel_pos = get_rel_pos(np.arange(8), 3)\n",
        "        valid_rel_pos = np.array([3, 2, 1, 0, 1, 2, 3, 4], dtype=\"float\")\n",
        "        self.assertSequenceEqual(test_rel_pos.tolist(), valid_rel_pos.tolist())\n",
        "\n",
        "    # Test the fitness score funtion\n",
        "    def test_fitness_score(self):\n",
        "        test_fit_all_eight = fitness_score(np.full(8, 8))\n",
        "        test_fit_diag1 = fitness_score(np.arange(8))\n",
        "        test_fit_diag1 = fitness_score(np.arange(7, -1, -1))\n",
        "        test_fit_best = fitness_score(np.array([4,0,7,3,1,6,2,5]))\n",
        "        test_fit_sample = fitness_score(np.array([0,1,5,7,2,6,3,6]))\n",
        "\n",
        "        self.assertEqual(test_fit_all_eight, 0)\n",
        "        self.assertEqual(test_fit_diag1, 0)\n",
        "        self.assertEqual(test_fit_diag1, 0)\n",
        "        self.assertEqual(test_fit_best, 56)\n",
        "        self.assertEqual(test_fit_sample, 52)\n",
        "\n",
        "    # Test probability function\n",
        "    def test_get_probability(self):\n",
        "        test_prob = get_probability(np.array([56, 50, 48]), 56).tolist()\n",
        "        valid_prob = np.array([1., 0.89286, 0.85714]).tolist()\n",
        "        self.assertSequenceEqual(test_prob, valid_prob)\n",
        "\n",
        "    # Test get dataframe\n",
        "    def test_get_dataframe(self):\n",
        "        test_df = get_dataframe([np.full(8, 8, dtype=\"int32\")])\n",
        "        test_df_combination = test_df[\"combination\"][0].tolist()\n",
        "        test_df_probability = test_df[\"probability\"][0]\n",
        "        val_combination = np.full(8, 8, dtype=\"int32\").tolist()\n",
        "        val_probability = 0.0\n",
        "        self.assertSequenceEqual(test_df_combination, val_combination)\n",
        "        self.assertEqual(test_df_probability, val_probability)\n",
        "\n",
        "    # Test crossover\n",
        "    def test_crossover(self):\n",
        "        p1 = np.full(8, 8); p2 = np.full(8, 0)\n",
        "        c1, c2 = crossover(p1, p2, crossOver=0.5)\n",
        "        val_c1 = np.array([8, 8, 8, 8, 0, 0, 0, 0])\n",
        "        val_c2 = np.array([0, 0, 0, 0, 8, 8, 8, 8])\n",
        "        self.assertSequenceEqual(c1.tolist(), val_c1.tolist())\n",
        "        self.assertSequenceEqual(c2.tolist(), val_c2.tolist())\n"
      ],
      "execution_count": 154,
      "outputs": []
    },
    {
      "cell_type": "markdown",
      "metadata": {
        "id": "vognRDMlN4bB",
        "colab_type": "text"
      },
      "source": [
        "### Validate Unit test cases"
      ]
    },
    {
      "cell_type": "code",
      "metadata": {
        "id": "4c4aDtEd8mFK",
        "colab_type": "code",
        "colab": {
          "base_uri": "https://localhost:8080/",
          "height": 102
        },
        "outputId": "3a6b93b0-89c7-4ebb-faa3-1cc2a229008f"
      },
      "source": [
        "if __name__ == \"__main__\":\n",
        "    unittest.main(argv=[\"None\"], exit=False)"
      ],
      "execution_count": 155,
      "outputs": [
        {
          "output_type": "stream",
          "text": [
            ".......\n",
            "----------------------------------------------------------------------\n",
            "Ran 7 tests in 0.023s\n",
            "\n",
            "OK\n"
          ],
          "name": "stderr"
        }
      ]
    },
    {
      "cell_type": "markdown",
      "metadata": {
        "id": "m2ux1OYON-Io",
        "colab_type": "text"
      },
      "source": [
        "## Code execution"
      ]
    },
    {
      "cell_type": "markdown",
      "metadata": {
        "colab_type": "text",
        "id": "Zt8uNfbCVeQG"
      },
      "source": [
        "### Generate inital-population"
      ]
    },
    {
      "cell_type": "code",
      "metadata": {
        "colab_type": "code",
        "id": "9IpCNcj0DiUc",
        "scrolled": false,
        "colab": {
          "base_uri": "https://localhost:8080/",
          "height": 102
        },
        "outputId": "180b3a7e-844a-43fb-ed9d-5216774e8f7d"
      },
      "source": [
        "# Generate initial-population\n",
        "init_pop = generate_init_pop(initial_population_size)\n",
        "\n",
        "# display initial-population\n",
        "init_pop[:5]"
      ],
      "execution_count": 156,
      "outputs": [
        {
          "output_type": "execute_result",
          "data": {
            "text/plain": [
              "[array([2, 6, 4, 3, 7, 1, 5, 2]),\n",
              " array([1, 0, 6, 3, 6, 3, 2, 7]),\n",
              " array([6, 1, 3, 3, 2, 4, 3, 2]),\n",
              " array([4, 0, 3, 2, 2, 0, 6, 3]),\n",
              " array([0, 5, 5, 6, 0, 3, 6, 2])]"
            ]
          },
          "metadata": {
            "tags": []
          },
          "execution_count": 156
        }
      ]
    },
    {
      "cell_type": "markdown",
      "metadata": {
        "colab_type": "text",
        "id": "CUFqiNURVeQR"
      },
      "source": [
        "### Generate right sequence"
      ]
    },
    {
      "cell_type": "code",
      "metadata": {
        "colab_type": "code",
        "id": "bvF3sUaGIl-7",
        "colab": {
          "base_uri": "https://localhost:8080/",
          "height": 323
        },
        "outputId": "31830b34-da8e-41bb-884f-14806c998ccf"
      },
      "source": [
        "# store right sequence\n",
        "right_sequence = generate_sequence(init_pop, num_of_children, num_of_generation, target_value)"
      ],
      "execution_count": 157,
      "outputs": [
        {
          "output_type": "stream",
          "text": [
            "expected fitness: 56 \n",
            "----------------------------------n\n",
            "Gen: 0 , best-combination: [6 5 3 1 4 7 5 0] , fitness: 52 , avg-fitness: 42.86 , probability: 0.92857\n",
            "Gen: 1 , best-combination: [6 5 3 1 4 7 5 0] , fitness: 52 , avg-fitness: 42.64 , probability: 0.92857\n",
            "Gen: 2 , best-combination: [6 5 3 1 4 7 5 0] , fitness: 52 , avg-fitness: 42.65 , probability: 0.92857\n",
            "Gen: 3 , best-combination: [6 5 3 1 4 7 5 0] , fitness: 52 , avg-fitness: 42.336 , probability: 0.92857\n",
            "Gen: 4 , best-combination: [6 5 3 1 4 7 5 0] , fitness: 52 , avg-fitness: 42.593 , probability: 0.92857\n",
            "Gen: 5 , best-combination: [6 1 3 7 2 4 2 0] , fitness: 52 , avg-fitness: 42.771 , probability: 0.92857\n",
            "Gen: 6 , best-combination: [6 1 3 7 2 4 2 0] , fitness: 52 , avg-fitness: 43.015 , probability: 0.92857\n",
            "Gen: 7 , best-combination: [6 1 3 0 4 7 5 0] , fitness: 52 , avg-fitness: 43.191 , probability: 0.92857\n",
            "Gen: 8 , best-combination: [1 3 7 0 2 0 5 3] , fitness: 52 , avg-fitness: 43.396 , probability: 0.92857\n",
            "Gen: 9 , best-combination: [1 3 7 6 4 2 5 0] , fitness: 52 , avg-fitness: 43.64 , probability: 0.92857\n",
            "Gen: 10 , best-combination: [0 2 7 5 7 1 3 6] , fitness: 52 , avg-fitness: 43.813 , probability: 0.92857\n",
            "Gen: 11 , best-combination: [6 2 7 5 0 3 1 7] , fitness: 52 , avg-fitness: 44.049 , probability: 0.92857\n",
            "Gen: 12 , best-combination: [6 1 3 7 4 2 5 0] , fitness: 52 , avg-fitness: 44.177 , probability: 0.92857\n",
            "Gen: 13 , best-combination: [1 3 7 0 2 0 5 3] , fitness: 52 , avg-fitness: 44.315 , probability: 0.92857\n",
            "Gen: 14 , best-combination: [5 2 4 7 0 3 1 6] , fitness: 56 , avg-fitness: 44.43 , probability: 1.0\n",
            "Gen: 14 , best-combination: [5 2 4 7 0 3 1 6] , fitness: 56 , probability: 1.0\n"
          ],
          "name": "stdout"
        }
      ]
    },
    {
      "cell_type": "markdown",
      "metadata": {
        "id": "yCOZ1IlkOKTf",
        "colab_type": "text"
      },
      "source": [
        "### Display right sequence"
      ]
    },
    {
      "cell_type": "code",
      "metadata": {
        "colab_type": "code",
        "id": "MBmL6QbTJK9I",
        "colab": {
          "base_uri": "https://localhost:8080/",
          "height": 34
        },
        "outputId": "ff662b53-0eaf-4c20-9927-92c615efb902"
      },
      "source": [
        "# Display the right sequence\n",
        "right_sequence_str = \" \".join([str(i) for i in right_sequence.tolist()])\n",
        "print(\"Sequence :\", right_sequence_str)"
      ],
      "execution_count": 177,
      "outputs": [
        {
          "output_type": "stream",
          "text": [
            "Sequence : 5 2 4 7 0 3 1 6\n"
          ],
          "name": "stdout"
        }
      ]
    }
  ]
}
