{
  "nbformat": 4,
  "nbformat_minor": 0,
  "metadata": {
    "colab": {
      "name": "Eight queens puzzle.ipynb",
      "provenance": [],
      "collapsed_sections": []
    },
    "kernelspec": {
      "display_name": "Python 3",
      "language": "python",
      "name": "python3"
    },
    "language_info": {
      "codemirror_mode": {
        "name": "ipython",
        "version": 3
      },
      "file_extension": ".py",
      "mimetype": "text/x-python",
      "name": "python",
      "nbconvert_exporter": "python",
      "pygments_lexer": "ipython3",
      "version": "3.7.6"
    }
  },
  "cells": [
    {
      "cell_type": "markdown",
      "metadata": {
        "colab_type": "text",
        "id": "6pbRx3S-DiUF"
      },
      "source": [
        "# Eight queens puzzle - using Genetic algorithm\n",
        "**Karthikeyan Ramachandran**\n",
        "\n",
        "## About\n",
        "The eight queens puzzle is the problem of placing eight chess queens on an 8×8 chessboard so that no two queens threaten each other; thus, a solution requires that no two queens share the same row, column, or diagonal. \n",
        "\n",
        "## Steps involved\n",
        "1. Initial population is generated with chromosomes containing random genes.\n",
        "2. Fitness score of the population is calculated.\n",
        "3. Based on fitness score, parents are selected for mating.\n",
        "4. Crossover and Mutation are performed on the selected parents, to produce offsprings.\n",
        "5. Offsprings are added to the population and Fitness score is calculated.\n",
        "6. Process is stopped if max-fitness score is found, else repeated from Step 3 to 5"
      ]
    },
    {
      "cell_type": "markdown",
      "metadata": {
        "colab_type": "text",
        "id": "gtVk41fJVeOi"
      },
      "source": [
        "## Import libraries"
      ]
    },
    {
      "cell_type": "code",
      "metadata": {
        "colab_type": "code",
        "id": "ks7CA5bgDiUI",
        "colab": {}
      },
      "source": [
        "import numpy as np\n",
        "import pandas as pd\n",
        "\n",
        "# Setting seed value for reproducibility\n",
        "np.random.seed(50)"
      ],
      "execution_count": 1,
      "outputs": []
    },
    {
      "cell_type": "markdown",
      "metadata": {
        "colab_type": "text",
        "id": "JW57HsGBVeOu"
      },
      "source": [
        "## Define parameters"
      ]
    },
    {
      "cell_type": "code",
      "metadata": {
        "colab_type": "code",
        "id": "psryjK-9DiUS",
        "colab": {}
      },
      "source": [
        "# Define sizes of initial-population, children and generations \n",
        "initial_population_size = 100\n",
        "num_of_children = 50\n",
        "num_of_generation = 500\n",
        "\n",
        "# position to perform Crossover operation on the combination\n",
        "crossOver=0.5\n",
        "\n",
        "# Define fitness parameters\n",
        "num_of_queens = 8\n",
        "num_of_checks = 7\n",
        "target_value = num_of_queens * num_of_checks"
      ],
      "execution_count": 2,
      "outputs": []
    },
    {
      "cell_type": "markdown",
      "metadata": {
        "colab_type": "text",
        "id": "WluXQIImVeO3"
      },
      "source": [
        "## Define functions"
      ]
    },
    {
      "cell_type": "code",
      "metadata": {
        "colab_type": "code",
        "id": "Rgg2L9T2VeO4",
        "colab": {}
      },
      "source": [
        "# Generate initial-population\n",
        "def generate_init_pop(pop_size):\n",
        "    initial_population = []\n",
        "    for i in range(pop_size):\n",
        "        initial_population.append(np.random.randint(0,8,8))\n",
        "    return initial_population"
      ],
      "execution_count": 3,
      "outputs": []
    },
    {
      "cell_type": "code",
      "metadata": {
        "colab_type": "code",
        "id": "9AGP9apiDiUm",
        "colab": {}
      },
      "source": [
        "# Fitness score-dependent functions\n",
        "\n",
        "## Get attack positions\n",
        "def get_atk_position(pos, dist):\n",
        "    atk_position = np.array([pos-dist, pos, pos+dist], dtype=\"int32\")\n",
        "    return atk_position\n",
        "\n",
        "## Get relative position of the queen (to calculate distance)\n",
        "def get_rel_pos(position_array, idx_val):\n",
        "    rel_pos = np.empty(8)\n",
        "    for i in range(len(position_array)):\n",
        "        if idx_val < i:\n",
        "            rel_pos[i] = (i - idx_val)\n",
        "        else:\n",
        "            rel_pos[i] = (idx_val - i)\n",
        "            \n",
        "    return rel_pos"
      ],
      "execution_count": 4,
      "outputs": []
    },
    {
      "cell_type": "code",
      "metadata": {
        "colab_type": "code",
        "id": "frbARq8iVePH",
        "colab": {}
      },
      "source": [
        "# Fitness score \n",
        "\n",
        "## Max fitness score is 8 queens * 7 attacks from other queens = 56\n",
        "def fitness_score(position_array):\n",
        "    score = 0\n",
        "    for i in range(len(position_array)):\n",
        "        rel_pos = get_rel_pos(position_array, i)\n",
        "        for j in range(len(position_array)):\n",
        "            if i == j:\n",
        "                continue\n",
        "            atk_position = get_atk_position(position_array[i], rel_pos[j])\n",
        "            if position_array[j] in atk_position:\n",
        "                is_attack = True\n",
        "            else:\n",
        "                is_attack = False\n",
        "                score += 1\n",
        "            # print(position_array[j], atk_position, is_attack, score)\n",
        "    return score"
      ],
      "execution_count": 5,
      "outputs": []
    },
    {
      "cell_type": "code",
      "metadata": {
        "colab_type": "code",
        "id": "8zuhOgLeDiUu",
        "colab": {}
      },
      "source": [
        "# generate probabilty based on fitness score\n",
        "def get_probability(fitness_value, target_value = 56):\n",
        "    probability = np.empty(len(fitness_value))\n",
        "    for i in range(len(fitness_value)):\n",
        "        probability[i] = (np.round(fitness_value[i]/target_value, 5))\n",
        "    return probability"
      ],
      "execution_count": 6,
      "outputs": []
    },
    {
      "cell_type": "code",
      "metadata": {
        "colab_type": "code",
        "id": "S9RsmAU8DiU1",
        "colab": {}
      },
      "source": [
        "# sort dataframe based on probability\n",
        "def prob_sort(population_dataframe):\n",
        "    population_dataframe = (population_dataframe.sort_values([\"probability\"], ascending=False).reset_index(drop=True))\n",
        "    return population_dataframe"
      ],
      "execution_count": 7,
      "outputs": []
    },
    {
      "cell_type": "code",
      "metadata": {
        "colab_type": "code",
        "id": "swqodWuYDiU9",
        "colab": {}
      },
      "source": [
        "# store generated info into a dataframe\n",
        "def get_dataframe(combination_array):\n",
        "    population = []\n",
        "    fitness = []\n",
        "\n",
        "    for i in range(len(combination_array)):\n",
        "        combination = combination_array[i]\n",
        "        population.append(combination)\n",
        "        fitness.append(fitness_score(combination))\n",
        "\n",
        "    pop_df = pd.DataFrame({\"combination\":population, \"fitness\":fitness})\n",
        "    pop_df[\"probability\"] = get_probability(pop_df[\"fitness\"])\n",
        "    pop_df = prob_sort(pop_df)\n",
        "\n",
        "    return pop_df"
      ],
      "execution_count": 8,
      "outputs": []
    },
    {
      "cell_type": "code",
      "metadata": {
        "colab_type": "code",
        "id": "_6rz6HkFDiVH",
        "colab": {}
      },
      "source": [
        "# function to perform One Point Crossover\n",
        "def crossover(parent1, parent2, crossOver=0.5):\n",
        "    # get Crossover length to slice\n",
        "    crossOver_len = round(int(len(parent1) * crossOver))\n",
        "    \n",
        "    # Slice and perform crossover\n",
        "    child1 = np.concatenate((parent1[:crossOver_len], parent2[crossOver_len:]), axis=0)\n",
        "    child2 = np.concatenate((parent2[:crossOver_len], parent1[crossOver_len:]), axis=0)\n",
        "    \n",
        "    return child1, child2"
      ],
      "execution_count": 9,
      "outputs": []
    },
    {
      "cell_type": "code",
      "metadata": {
        "colab_type": "code",
        "id": "MgPZd5ruDiVO",
        "colab": {}
      },
      "source": [
        "# function to perform Random Resetting mutation\n",
        "def mutation(combination):\n",
        "    random_queen = np.random.randint(8)\n",
        "    random_position = int(np.random.randint(0,8,1))\n",
        "    combination[random_queen] = random_position\n",
        "    return combination"
      ],
      "execution_count": 10,
      "outputs": []
    },
    {
      "cell_type": "code",
      "metadata": {
        "colab_type": "code",
        "id": "TckQofHJDiVV",
        "colab": {}
      },
      "source": [
        "# generate offspring combination based on performing Crossover and Mutation on selected parents\n",
        "def get_children(parent_array):\n",
        "\n",
        "    children = []\n",
        "    mutated_children = []\n",
        "\n",
        "    for i in range(0,num_of_children,2):\n",
        "        p1 = parent_array[i]\n",
        "        p2 = parent_array[i+1]\n",
        "    \n",
        "        (c1, c2) = crossover(p1, p2)\n",
        "    \n",
        "        children.append(c1)\n",
        "        children.append(c2)\n",
        "    \n",
        "    for i in range(num_of_children):\n",
        "        mutated_children.append(mutation(children[i]))\n",
        "    \n",
        "    return mutated_children"
      ],
      "execution_count": 11,
      "outputs": []
    },
    {
      "cell_type": "code",
      "metadata": {
        "colab_type": "code",
        "id": "UoRXjReOHlFd",
        "colab": {}
      },
      "source": [
        "# Function to generate the right sequenceinitial_population_size\n",
        "def generate_sequence(initial_population, children, generations, expected_fitness):\n",
        "    # get initial population fitness\n",
        "\n",
        "    init_pop_fitness = get_dataframe(initial_population)\n",
        "    mating_pool = init_pop_fitness[:children]\n",
        "\n",
        "    print(\"expected fitness:\", expected_fitness, \"\\n============================\\n\")\n",
        "\n",
        "    for i in range(generations):\n",
        "        # get expected fitness count\n",
        "        expected_fitness_count = mating_pool[(mating_pool[\"fitness\"]==expected_fitness)][\"fitness\"].count()\n",
        "        if expected_fitness_count > 0:\n",
        "            print(\"Gen:\", (i-1), \n",
        "                \", best-combination:\", mating_pool[\"combination\"][0], \n",
        "                \", fitness:\", mating_pool[\"fitness\"][0],\n",
        "                 \", probability:\", mating_pool[\"probability\"][0]\n",
        "             )\n",
        "            break\n",
        "        gen_pop = []\n",
        "        gen_pop = get_children(mating_pool[\"combination\"])\n",
        "        gen_pop = np.concatenate((gen_pop, list(mating_pool[\"combination\"])), axis=0)\n",
        "        mating_pool = get_dataframe(gen_pop)\n",
        "    \n",
        "        print(\"Gen:\", i, \n",
        "            \", best-combination:\", mating_pool[\"combination\"][0], \n",
        "            # mating_pool[\"combination\"][0], mating_pool[\"combination\"][1], mating_pool[\"combination\"][2],\n",
        "            \", fitness:\", mating_pool[\"fitness\"][0],\n",
        "            \", avg-fitness:\", np.round(np.mean(mating_pool[\"fitness\"]), 3),\n",
        "            \", probability:\", mating_pool[\"probability\"][0]\n",
        "            )\n",
        "    return mating_pool[mating_pool[\"probability\"]==1][\"combination\"][0]"
      ],
      "execution_count": 12,
      "outputs": []
    },
    {
      "cell_type": "markdown",
      "metadata": {
        "colab_type": "text",
        "id": "Zt8uNfbCVeQG"
      },
      "source": [
        "## Generate inital-population"
      ]
    },
    {
      "cell_type": "code",
      "metadata": {
        "colab_type": "code",
        "id": "9IpCNcj0DiUc",
        "scrolled": false,
        "colab": {
          "base_uri": "https://localhost:8080/",
          "height": 102
        },
        "outputId": "18d0cff8-ed7a-42b8-9f59-ac42dee8a721"
      },
      "source": [
        "# Generate initial-population\n",
        "init_pop = generate_init_pop(initial_population_size)\n",
        "\n",
        "# display initial-population\n",
        "init_pop[:5]"
      ],
      "execution_count": 16,
      "outputs": [
        {
          "output_type": "execute_result",
          "data": {
            "text/plain": [
              "[array([4, 0, 7, 3, 1, 0, 4, 0]),\n",
              " array([5, 3, 6, 3, 1, 6, 0, 2]),\n",
              " array([0, 4, 3, 7, 4, 2, 7, 7]),\n",
              " array([6, 7, 3, 6, 1, 4, 0, 3]),\n",
              " array([2, 5, 2, 7, 7, 6, 1, 6])]"
            ]
          },
          "metadata": {
            "tags": []
          },
          "execution_count": 16
        }
      ]
    },
    {
      "cell_type": "markdown",
      "metadata": {
        "colab_type": "text",
        "id": "CUFqiNURVeQR"
      },
      "source": [
        "## Generate right sequence"
      ]
    },
    {
      "cell_type": "code",
      "metadata": {
        "colab_type": "code",
        "id": "bvF3sUaGIl-7",
        "colab": {
          "base_uri": "https://localhost:8080/",
          "height": 680
        },
        "outputId": "75684ff5-8ad8-4d7e-9621-2a10d886f514"
      },
      "source": [
        "# store right sequence\n",
        "right_sequence = generate_sequence(init_pop, num_of_children, num_of_generation, target_value)"
      ],
      "execution_count": 17,
      "outputs": [
        {
          "output_type": "stream",
          "text": [
            "expected fitness: 56 \n",
            "============================\n",
            "\n",
            "Gen: 0 , best-combination: [4 1 7 5 3 0 2 6] , fitness: 52 , avg-fitness: 43.48 , probability: 0.92857\n",
            "Gen: 1 , best-combination: [4 1 7 5 3 0 2 6] , fitness: 52 , avg-fitness: 43.427 , probability: 0.92857\n",
            "Gen: 2 , best-combination: [7 1 3 6 0 7 5 4] , fitness: 52 , avg-fitness: 43.55 , probability: 0.92857\n",
            "Gen: 3 , best-combination: [7 1 3 6 0 7 5 4] , fitness: 52 , avg-fitness: 43.576 , probability: 0.92857\n",
            "Gen: 4 , best-combination: [7 1 3 6 0 7 5 4] , fitness: 52 , avg-fitness: 43.613 , probability: 0.92857\n",
            "Gen: 5 , best-combination: [4 1 7 5 3 0 2 6] , fitness: 52 , avg-fitness: 43.726 , probability: 0.92857\n",
            "Gen: 6 , best-combination: [7 1 3 6 0 7 5 4] , fitness: 52 , avg-fitness: 43.805 , probability: 0.92857\n",
            "Gen: 7 , best-combination: [2 6 3 7 4 1 0 2] , fitness: 52 , avg-fitness: 43.933 , probability: 0.92857\n",
            "Gen: 8 , best-combination: [2 6 3 7 4 1 0 2] , fitness: 52 , avg-fitness: 43.952 , probability: 0.92857\n",
            "Gen: 9 , best-combination: [2 6 3 7 4 1 0 2] , fitness: 52 , avg-fitness: 44.004 , probability: 0.92857\n",
            "Gen: 10 , best-combination: [7 1 3 6 0 7 5 4] , fitness: 52 , avg-fitness: 44.127 , probability: 0.92857\n",
            "Gen: 11 , best-combination: [2 6 3 7 4 6 0 5] , fitness: 52 , avg-fitness: 44.237 , probability: 0.92857\n",
            "Gen: 12 , best-combination: [7 1 3 6 0 7 5 4] , fitness: 52 , avg-fitness: 44.329 , probability: 0.92857\n",
            "Gen: 13 , best-combination: [4 1 7 5 3 0 2 6] , fitness: 52 , avg-fitness: 44.456 , probability: 0.92857\n",
            "Gen: 14 , best-combination: [2 6 3 7 4 1 5 2] , fitness: 54 , avg-fitness: 44.568 , probability: 0.96429\n",
            "Gen: 15 , best-combination: [2 6 3 7 4 1 5 2] , fitness: 54 , avg-fitness: 44.654 , probability: 0.96429\n",
            "Gen: 16 , best-combination: [3 6 3 7 4 1 5 2] , fitness: 54 , avg-fitness: 44.738 , probability: 0.96429\n",
            "Gen: 17 , best-combination: [3 6 3 7 4 1 5 2] , fitness: 54 , avg-fitness: 44.838 , probability: 0.96429\n",
            "Gen: 18 , best-combination: [2 6 3 7 4 1 5 2] , fitness: 54 , avg-fitness: 44.962 , probability: 0.96429\n",
            "Gen: 19 , best-combination: [2 6 3 7 4 1 5 2] , fitness: 54 , avg-fitness: 45.065 , probability: 0.96429\n",
            "Gen: 20 , best-combination: [3 6 3 7 4 1 5 2] , fitness: 54 , avg-fitness: 45.184 , probability: 0.96429\n",
            "Gen: 21 , best-combination: [3 6 3 7 4 1 5 2] , fitness: 54 , avg-fitness: 45.322 , probability: 0.96429\n",
            "Gen: 22 , best-combination: [2 6 3 7 4 1 5 2] , fitness: 54 , avg-fitness: 45.458 , probability: 0.96429\n",
            "Gen: 23 , best-combination: [2 6 3 7 4 1 0 5] , fitness: 54 , avg-fitness: 45.603 , probability: 0.96429\n",
            "Gen: 24 , best-combination: [2 6 3 7 4 1 5 5] , fitness: 54 , avg-fitness: 45.7 , probability: 0.96429\n",
            "Gen: 25 , best-combination: [0 6 3 7 4 1 5 2] , fitness: 54 , avg-fitness: 45.819 , probability: 0.96429\n",
            "Gen: 26 , best-combination: [2 6 3 7 4 1 5 2] , fitness: 54 , avg-fitness: 45.963 , probability: 0.96429\n",
            "Gen: 27 , best-combination: [2 6 3 7 4 1 0 5] , fitness: 54 , avg-fitness: 46.076 , probability: 0.96429\n",
            "Gen: 28 , best-combination: [2 6 3 7 4 1 5 2] , fitness: 54 , avg-fitness: 46.204 , probability: 0.96429\n",
            "Gen: 29 , best-combination: [2 6 3 7 4 1 5 2] , fitness: 54 , avg-fitness: 46.319 , probability: 0.96429\n",
            "Gen: 30 , best-combination: [0 6 3 7 4 1 5 2] , fitness: 54 , avg-fitness: 46.426 , probability: 0.96429\n",
            "Gen: 31 , best-combination: [2 6 3 7 4 1 5 5] , fitness: 54 , avg-fitness: 46.526 , probability: 0.96429\n",
            "Gen: 32 , best-combination: [2 6 3 7 4 1 5 2] , fitness: 54 , avg-fitness: 46.633 , probability: 0.96429\n",
            "Gen: 33 , best-combination: [2 6 3 7 4 1 5 2] , fitness: 54 , avg-fitness: 46.731 , probability: 0.96429\n",
            "Gen: 34 , best-combination: [3 6 0 7 4 1 5 2] , fitness: 56 , avg-fitness: 46.827 , probability: 1.0\n",
            "Gen: 34 , best-combination: [3 6 0 7 4 1 5 2] , fitness: 56 , probability: 1.0\n"
          ],
          "name": "stdout"
        }
      ]
    },
    {
      "cell_type": "code",
      "metadata": {
        "colab_type": "code",
        "id": "MBmL6QbTJK9I",
        "colab": {
          "base_uri": "https://localhost:8080/",
          "height": 34
        },
        "outputId": "4b092545-c70a-489d-d764-fd55f3aa1861"
      },
      "source": [
        "# Display the right sequence\n",
        "print(\"Sequence :\", right_sequence)"
      ],
      "execution_count": 18,
      "outputs": [
        {
          "output_type": "stream",
          "text": [
            "Sequence : [3 6 0 7 4 1 5 2]\n"
          ],
          "name": "stdout"
        }
      ]
    }
  ]
}